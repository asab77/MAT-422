{
  "nbformat": 4,
  "nbformat_minor": 0,
  "metadata": {
    "colab": {
      "provenance": [],
      "authorship_tag": "ABX9TyMmXD63VYZBstoNhtvevD4V",
      "include_colab_link": true
    },
    "kernelspec": {
      "name": "python3",
      "display_name": "Python 3"
    },
    "language_info": {
      "name": "python"
    }
  },
  "cells": [
    {
      "cell_type": "markdown",
      "metadata": {
        "id": "view-in-github",
        "colab_type": "text"
      },
      "source": [
        "<a href=\"https://colab.research.google.com/github/asab77/MAT-422/blob/main/HW1_3.ipynb\" target=\"_parent\"><img src=\"https://colab.research.google.com/assets/colab-badge.svg\" alt=\"Open In Colab\"/></a>"
      ]
    },
    {
      "cell_type": "code",
      "execution_count": 2,
      "metadata": {
        "colab": {
          "base_uri": "https://localhost:8080/"
        },
        "id": "EavgRBvl1JbI",
        "outputId": "2f9a579a-2fb8-4823-c1ed-15f0250936c2"
      },
      "outputs": [
        {
          "output_type": "stream",
          "name": "stdout",
          "text": [
            "Matrix A:\n",
            " [[ 1  2  3]\n",
            " [ 4  8 14]\n",
            " [ 2  6 15]]\n",
            "Orthogonal matrix Q:\n",
            " [[-2.18217890e-01 -1.05851225e-01 -9.70142500e-01]\n",
            " [-8.72871561e-01 -4.23404899e-01  2.42535625e-01]\n",
            " [-4.36435780e-01  8.99735411e-01 -1.38777878e-15]]\n",
            "Upper triangular matrix R:\n",
            " [[ -4.58257569 -10.03802295 -19.42139223]\n",
            " [  0.           1.79947082   7.2508089 ]\n",
            " [  0.           0.           0.48507125]]\n",
            "Reconstructed A (Q * R):\n",
            " [[ 1.  2.  3.]\n",
            " [ 4.  8. 14.]\n",
            " [ 2.  6. 15.]]\n"
          ]
        }
      ],
      "source": [
        "#QR Decomposition\n",
        "import numpy as np\n",
        "\n",
        "A = np.array([[1, 2, 3],\n",
        "              [4, 8, 14],\n",
        "              [2, 6, 15]])\n",
        "\n",
        "Q, R = np.linalg.qr(A)\n",
        "\n",
        "print(\"Matrix A:\\n\", A)\n",
        "print(\"Orthogonal matrix Q:\\n\", Q)\n",
        "print(\"Upper triangular matrix R:\\n\", R)\n",
        "\n",
        "reconstructed = np.dot(Q, R)\n",
        "print(\"Reconstructed A (Q * R):\\n\", reconstructed)\n"
      ]
    },
    {
      "cell_type": "code",
      "source": [
        "#Least-Squares Problems\n",
        "A = np.array([[1, 1], [1, 2], [1, 3]])\n",
        "b = np.array([1, 2, 2])\n",
        "\n",
        "\n",
        "x, residuals, rank, s = np.linalg.lstsq(A, b, rcond=None)\n",
        "\n",
        "print(\"Solution x:\\n\", x)\n",
        "print(\"Residuals:\\n\", residuals)\n"
      ],
      "metadata": {
        "colab": {
          "base_uri": "https://localhost:8080/"
        },
        "id": "-dg7frEz1hqW",
        "outputId": "c75f0593-2b9c-4f52-e9a6-1a91b38f7420"
      },
      "execution_count": 3,
      "outputs": [
        {
          "output_type": "stream",
          "name": "stdout",
          "text": [
            "Solution x:\n",
            " [0.66666667 0.5       ]\n",
            "Residuals:\n",
            " [0.16666667]\n"
          ]
        }
      ]
    },
    {
      "cell_type": "code",
      "source": [
        "#Linear Regression\n",
        "import numpy as np\n",
        "import matplotlib.pyplot as plt\n",
        "from sklearn.linear_model import LinearRegression\n",
        "\n",
        "# Linear regression example\n",
        "X = np.array([[1], [2], [3], [4], [5]])\n",
        "y = np.array([1, 2, 1.31, 3.88, 2.15])\n",
        "\n",
        "\n",
        "model = LinearRegression()\n",
        "model.fit(X, y)\n",
        "\n",
        "# Predict values\n",
        "y_pred = model.predict(X)\n",
        "\n",
        "# Plot the results\n",
        "plt.scatter(X, y, color='blue', label='Data')\n",
        "plt.plot(X, y_pred, color='red', label='Fitted line')\n",
        "plt.xlabel('X')\n",
        "plt.ylabel('y')\n",
        "plt.title('Linear Regression')\n",
        "plt.legend()\n",
        "plt.show()\n",
        "\n",
        "# Coefficients\n",
        "print(\"Slope (beta1):\", model.coef_[0])\n",
        "print(\"Intercept (beta0):\", model.intercept_)"
      ],
      "metadata": {
        "colab": {
          "base_uri": "https://localhost:8080/",
          "height": 508
        },
        "id": "zDXaWysF118u",
        "outputId": "8c1b200a-93e5-43dd-ed3b-252111c48a25"
      },
      "execution_count": 5,
      "outputs": [
        {
          "output_type": "display_data",
          "data": {
            "text/plain": [
              "<Figure size 640x480 with 1 Axes>"
            ],
            "image/png": "[encoded data removed]"
          },
          "metadata": {}
        },
        {
          "output_type": "stream",
          "name": "stdout",
          "text": [
            "Slope (beta1): 0.41800000000000004\n",
            "Intercept (beta0): 0.8140000000000005\n"
          ]
        }
      ]
    }
  ]
}