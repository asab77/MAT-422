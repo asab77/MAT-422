{
  "nbformat": 4,
  "nbformat_minor": 0,
  "metadata": {
    "colab": {
      "provenance": [],
      "authorship_tag": "ABX9TyN2jZqDReOH7s+fnbbqFrv1",
      "include_colab_link": true
    },
    "kernelspec": {
      "name": "python3",
      "display_name": "Python 3"
    },
    "language_info": {
      "name": "python"
    }
  },
  "cells": [
    {
      "cell_type": "markdown",
      "metadata": {
        "id": "view-in-github",
        "colab_type": "text"
      },
      "source": [
        "<a href=\"https://colab.research.google.com/github/asab77/MAT-422/blob/main/Homework_1_2.ipynb\" target=\"_parent\"><img src=\"https://colab.research.google.com/assets/colab-badge.svg\" alt=\"Open In Colab\"/></a>"
      ]
    },
    {
      "cell_type": "code",
      "execution_count": 4,
      "metadata": {
        "id": "ZFoDujEq_eyB"
      },
      "outputs": [],
      "source": []
    },
    {
      "cell_type": "code",
      "source": [
        "import numpy as np\n",
        "\n",
        "# Define vectors in R^2\n",
        "v1 = np.array([2, 3])\n",
        "v2 = np.array([4, 6])\n",
        "\n",
        "# Vector addition\n",
        "v_tot= v1 + v2\n",
        "\n",
        "# Scalar multiplication\n",
        "scalar = 2\n",
        "v_scalar_mul = scalar * v1\n",
        "\n",
        "print(\"Vector addition:\", v_tot)\n",
        "print(\"Scalar multiplication:\", v_scalar_mul)\n"
      ],
      "metadata": {
        "colab": {
          "base_uri": "https://localhost:8080/"
        },
        "id": "TexDA6it_osq",
        "outputId": "5d1bad5f-66fe-439e-e87a-b78e840f4290"
      },
      "execution_count": 1,
      "outputs": [
        {
          "output_type": "stream",
          "name": "stdout",
          "text": [
            "Vector addition: [4 6]\n",
            "Scalar multiplication: [2 4]\n"
          ]
        }
      ]
    },
    {
      "cell_type": "code",
      "source": [
        "# Define orthogonal vectors\n",
        "v3 = np.array([1, 0])\n",
        "v4 = np.array([0, 1])\n",
        "\n",
        "dot_product = np.dot(v3, v4)\n",
        "\n",
        "print(\"Dot product:\", dot_product)\n",
        "\n"
      ],
      "metadata": {
        "colab": {
          "base_uri": "https://localhost:8080/"
        },
        "id": "V2MthYP6_lY3",
        "outputId": "4de79ec0-9f52-4b30-e9c9-63d9f2cc70b4"
      },
      "execution_count": 5,
      "outputs": [
        {
          "output_type": "stream",
          "name": "stdout",
          "text": [
            "Dot product: 0\n"
          ]
        }
      ]
    },
    {
      "cell_type": "code",
      "source": [
        "def gram_schmidt(vectors):\n",
        "    orthogonal_basis = []\n",
        "    for v in vectors:\n",
        "        w = v - sum(np.dot(v, b) * b for b in orthogonal_basis)\n",
        "        orthogonal_basis.append(w / np.linalg.norm(w))\n",
        "    return orthogonal_basis\n",
        "\n",
        "\n",
        "v5 = np.array([0, 1])\n",
        "v6 = np.array([1, 0])\n",
        "vectors = [v5, v6]\n",
        "\n",
        "\n",
        "orthogonal_basis = gram_schmidt(vectors)\n",
        "\n",
        "print(\"Orthogonal vectors:\")\n",
        "for vec in orthogonal_basis:\n",
        "    print(vec)\n"
      ],
      "metadata": {
        "colab": {
          "base_uri": "https://localhost:8080/"
        },
        "id": "fkrn7Nrd_9kM",
        "outputId": "d79ed6e5-5e94-4891-d33c-cac1cdc8798f"
      },
      "execution_count": 6,
      "outputs": [
        {
          "output_type": "stream",
          "name": "stdout",
          "text": [
            "Orthogonal vectors:\n",
            "[0. 1.]\n",
            "[1. 0.]\n"
          ]
        }
      ]
    },
    {
      "cell_type": "code",
      "source": [
        "A = np.array([[2, 1], [2, 4]])\n",
        "\n",
        "eigenvalues, eigenvectors = np.linalg.eig(A)\n",
        "\n",
        "print(\"Eigenvalues:\", eigenvalues)\n",
        "print(\"Eigenvectors:\")\n",
        "print(eigenvectors)\n"
      ],
      "metadata": {
        "colab": {
          "base_uri": "https://localhost:8080/"
        },
        "id": "UTyGrqrdAIbo",
        "outputId": "7bdd96fc-ce46-4e2e-b571-0e2687dcbdb2"
      },
      "execution_count": 7,
      "outputs": [
        {
          "output_type": "stream",
          "name": "stdout",
          "text": [
            "Eigenvalues: [1.26794919 4.73205081]\n",
            "Eigenvectors:\n",
            "[[-0.80689822 -0.34372377]\n",
            " [ 0.59069049 -0.9390708 ]]\n"
          ]
        }
      ]
    }
  ]
}