{
  "nbformat": 4,
  "nbformat_minor": 0,
  "metadata": {
    "colab": {
      "provenance": [],
      "authorship_tag": "ABX9TyNiiWoTuOLmUyiLrgXiUs4p",
      "include_colab_link": true
    },
    "kernelspec": {
      "name": "python3",
      "display_name": "Python 3"
    },
    "language_info": {
      "name": "python"
    }
  },
  "cells": [
    {
      "cell_type": "markdown",
      "metadata": {
        "id": "view-in-github",
        "colab_type": "text"
      },
      "source": [
        "<a href=\"https://colab.research.google.com/github/asab77/MAT-422/blob/main/Homeworke1_4.ipynb\" target=\"_parent\"><img src=\"https://colab.research.google.com/assets/colab-badge.svg\" alt=\"Open In Colab\"/></a>"
      ]
    },
    {
      "cell_type": "code",
      "execution_count": 2,
      "metadata": {
        "colab": {
          "base_uri": "https://localhost:8080/"
        },
        "id": "RbRiyobmWOIF",
        "outputId": "decfa15a-a03b-4982-e87b-92e51fd5235a"
      },
      "outputs": [
        {
          "output_type": "stream",
          "name": "stdout",
          "text": [
            "Matrix A:\n",
            "[[1 1]\n",
            " [3 4]\n",
            " [5 6]]\n",
            "\n",
            "U Matrix:\n",
            "[[-0.15001235  0.55752097 -0.81649658]\n",
            " [-0.53280859 -0.74124783 -0.40824829]\n",
            " [-0.8328333   0.3737941   0.40824829]]\n",
            "\n",
            "Sigma (S) values:\n",
            "[9.37719389 0.26121778]\n",
            "\n",
            "V Transposed (V^T):\n",
            "[[-0.63053027 -0.77616466]\n",
            " [ 0.77616466 -0.63053027]]\n"
          ]
        }
      ],
      "source": [
        "import numpy as np\n",
        "\n",
        "# Example matrix A\n",
        "A = np.array([[1, 1], [3, 4], [5, 6]])\n",
        "\n",
        "# Compute SVD\n",
        "U, S, VT = np.linalg.svd(A)\n",
        "\n",
        "# Display the results\n",
        "print(\"Matrix A:\")\n",
        "print(A)\n",
        "print(\"\\nU Matrix:\")\n",
        "print(U)\n",
        "print(\"\\nSigma (S) values:\")\n",
        "print(S)\n",
        "print(\"\\nV Transposed (V^T):\")\n",
        "print(VT)\n"
      ]
    },
    {
      "cell_type": "code",
      "source": [
        "# Low-rank approximation\n",
        "rank = 1  # Set the rank for the approximation\n",
        "\n",
        "# Reconstruct A using only the first 'rank' singular values\n",
        "S_rank = np.zeros_like(A, dtype=float)\n",
        "np.fill_diagonal(S_rank, S[:rank])\n",
        "\n",
        "A_approx = U[:, :rank] @ S_rank[:rank, :rank] @ VT[:rank, :]\n",
        "\n",
        "# Display the low-rank approximation\n",
        "print(\"Low-Rank Approximation of A:\")\n",
        "print(A_approx)\n"
      ],
      "metadata": {
        "colab": {
          "base_uri": "https://localhost:8080/"
        },
        "id": "0U1zFk8YWcyr",
        "outputId": "495da554-4abf-4be3-c5e9-0bf30a456df4"
      },
      "execution_count": 3,
      "outputs": [
        {
          "output_type": "stream",
          "name": "stdout",
          "text": [
            "Low-Rank Approximation of A:\n",
            "[[0.88696374 1.09182689]\n",
            " [3.15028652 3.87791225]\n",
            " [4.92421399 6.06156603]]\n"
          ]
        }
      ]
    },
    {
      "cell_type": "code",
      "source": [
        "from sklearn.decomposition import PCA\n",
        "import matplotlib.pyplot as plt\n",
        "\n",
        "# Example dataset in 2D\n",
        "X = np.array([[1, 1], [3, 4], [5, 5], [7, 9]])\n",
        "\n",
        "# Apply PCA to reduce to 1 component\n",
        "pca = PCA(n_components=1)\n",
        "X_pca = pca.fit_transform(X)\n",
        "\n",
        "# Display the original data and the transformed data\n",
        "print(\"Original Data (X):\")\n",
        "print(X)\n",
        "print(\"\\nData after PCA (1 component):\")\n",
        "print(X_pca)\n",
        "\n",
        "# Visualize the original data and its projection onto the principal component\n",
        "plt.scatter(X[:, 0], X[:, 1], color='blue', label='Original Data')\n",
        "plt.scatter(X_pca, [0] * len(X_pca), color='red', label='PCA Projection')\n",
        "plt.xlabel('Feature 1')\n",
        "plt.ylabel('Feature 2')\n",
        "plt.legend()\n",
        "plt.title('PCA Projection of 2D Data to 1D')\n",
        "plt.show()\n"
      ],
      "metadata": {
        "colab": {
          "base_uri": "https://localhost:8080/",
          "height": 668
        },
        "id": "GMgB1oRzWhrM",
        "outputId": "24c9ca1c-ecb6-466c-87eb-54d13320d720"
      },
      "execution_count": 4,
      "outputs": [
        {
          "output_type": "stream",
          "name": "stdout",
          "text": [
            "Original Data (X):\n",
            "[[1 1]\n",
            " [3 4]\n",
            " [5 5]\n",
            " [7 9]]\n",
            "\n",
            "Data after PCA (1 component):\n",
            "[[-4.80186022]\n",
            " [-1.20579529]\n",
            " [ 0.8109705 ]\n",
            " [ 5.19668501]]\n"
          ]
        },
        {
          "output_type": "display_data",
          "data": {
            "text/plain": [
              "<Figure size 640x480 with 1 Axes>"
            ],
            "image/png": "[encoded data removed]"
          },
          "metadata": {}
        }
      ]
    }
  ]
}